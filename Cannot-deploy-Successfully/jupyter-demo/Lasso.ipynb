{
 "cells": [
  {
   "cell_type": "code",
   "execution_count": 1,
   "metadata": {
    "collapsed": true
   },
   "outputs": [],
   "source": [
    "import numpy as np\n",
    "import pandas as pd"
   ]
  },
  {
   "cell_type": "markdown",
   "metadata": {},
   "source": [
    "# Step 1\n",
    "Load the scikit-learn version of the diabetes dataset and use the load_diabetes function."
   ]
  },
  {
   "cell_type": "code",
   "execution_count": 2,
   "metadata": {
    "collapsed": true
   },
   "outputs": [],
   "source": [
    "from sklearn import datasets\n",
    "diabetes = datasets.load_diabetes()"
   ]
  },
  {
   "cell_type": "markdown",
   "metadata": {},
   "source": [
    "See the data of DESCR."
   ]
  },
  {
   "cell_type": "code",
   "execution_count": 3,
   "metadata": {},
   "outputs": [
    {
     "name": "stdout",
     "output_type": "stream",
     "text": [
      "Diabetes dataset\n",
      "================\n",
      "\n",
      "Notes\n",
      "-----\n",
      "\n",
      "Ten baseline variables, age, sex, body mass index, average blood\n",
      "pressure, and six blood serum measurements were obtained for each of n =\n",
      "442 diabetes patients, as well as the response of interest, a\n",
      "quantitative measure of disease progression one year after baseline.\n",
      "\n",
      "Data Set Characteristics:\n",
      "\n",
      "  :Number of Instances: 442\n",
      "\n",
      "  :Number of Attributes: First 10 columns are numeric predictive values\n",
      "\n",
      "  :Target: Column 11 is a quantitative measure of disease progression one year after baseline\n",
      "\n",
      "  :Attributes:\n",
      "    :Age:\n",
      "    :Sex:\n",
      "    :Body mass index:\n",
      "    :Average blood pressure:\n",
      "    :S1:\n",
      "    :S2:\n",
      "    :S3:\n",
      "    :S4:\n",
      "    :S5:\n",
      "    :S6:\n",
      "\n",
      "Note: Each of these 10 feature variables have been mean centered and scaled by the standard deviation times `n_samples` (i.e. the sum of squares of each column totals 1).\n",
      "\n",
      "Source URL:\n",
      "http://www4.stat.ncsu.edu/~boos/var.select/diabetes.html\n",
      "\n",
      "For more information see:\n",
      "Bradley Efron, Trevor Hastie, Iain Johnstone and Robert Tibshirani (2004) \"Least Angle Regression,\" Annals of Statistics (with discussion), 407-499.\n",
      "(http://web.stanford.edu/~hastie/Papers/LARS/LeastAngle_2002.pdf)\n",
      "\n"
     ]
    }
   ],
   "source": [
    "print(diabetes.DESCR)\n",
    "#print(diabetes['data'])"
   ]
  },
  {
   "cell_type": "markdown",
   "metadata": {},
   "source": [
    "# Step 2\n",
    "Split the dataset into the training and test sets by using the function train_test_split in scikit-learn. <p>\n",
    "Here random_state is set my birthday."
   ]
  },
  {
   "cell_type": "code",
   "execution_count": 4,
   "metadata": {
    "collapsed": true
   },
   "outputs": [],
   "source": [
    "from sklearn.model_selection import train_test_split\n",
    "X_train, X_test, y_train, y_test = train_test_split(diabetes['data'],diabetes['target'], random_state=2209)"
   ]
  },
  {
   "cell_type": "markdown",
   "metadata": {},
   "source": [
    "# Step 3\n",
    "Below is the training and test R2 for the Lasso model with the default parameters. "
   ]
  },
  {
   "cell_type": "code",
   "execution_count": 5,
   "metadata": {},
   "outputs": [
    {
     "name": "stdout",
     "output_type": "stream",
     "text": [
      "Training set score: 0.36\n",
      "Test set score: 0.37\n",
      "Number of features used: 2\n"
     ]
    },
    {
     "data": {
      "text/plain": [
       "array([  0.        ,  -0.        , 386.09999602,   0.        ,\n",
       "         0.        ,   0.        ,  -0.        ,   0.        ,\n",
       "       318.17739949,   0.        ])"
      ]
     },
     "execution_count": 5,
     "metadata": {},
     "output_type": "execute_result"
    }
   ],
   "source": [
    "from sklearn.linear_model import Lasso\n",
    "lasso = Lasso(random_state=2209).fit(X_train, y_train)\n",
    "print(\"Training set score: {:.2f}\".format(lasso.score(X_train, y_train)))\n",
    "print(\"Test set score: {:.2f}\".format(lasso.score(X_test, y_test)))\n",
    "print(\"Number of features used: {}\".format(np.sum(lasso.coef_ != 0)))\n",
    "lasso.coef_"
   ]
  },
  {
   "cell_type": "markdown",
   "metadata": {
    "collapsed": true
   },
   "source": [
    "Question1:<p>\n",
    "Training set score: 0.32,\n",
    "Test set score: 0.33"
   ]
  },
  {
   "cell_type": "markdown",
   "metadata": {},
   "source": [
    "Question2:<p> \n",
    "The coefficients remain the 2, and it means those including two features."
   ]
  },
  {
   "cell_type": "markdown",
   "metadata": {},
   "source": [
    "Question3:<p> \n",
    "We can see the attribute of DESCR that shows by order and compare the array of lasso.coed_.<p>\n",
    "Attributes:Age,Sex,Body mass index,Average blood pressure,S1,S2,S3,S4,S5,S6<p> \n",
    "The name of features are \"Body mass index\" and \"S5\"."
   ]
  },
  {
   "cell_type": "markdown",
   "metadata": {},
   "source": [
    "# Step 4 \n",
    "I loaded the original dataset of diabetes from the web page and used the np.loadtxt about dtype=str then cut the header (first) row.<p>\n",
    "Second, I transform the type from str to float before I split the data and target."
   ]
  },
  {
   "cell_type": "code",
   "execution_count": 6,
   "metadata": {
    "collapsed": true
   },
   "outputs": [],
   "source": [
    "load_diabetes = np.loadtxt(fname=\"C:/Users/USER/diabetes.data\",dtype='str')\n",
    "load_diabetes = load_diabetes[1:,:]\n",
    "load_diabetes = load_diabetes.astype(np.float)\n",
    "XX = load_diabetes[:,:-1]\n",
    "yy = load_diabetes[:,-1:]"
   ]
  },
  {
   "cell_type": "markdown",
   "metadata": {},
   "source": [
    "# Step 5\n",
    "I split the dataset into the training and test sets by using the function train_test_split in scikit-learn. <p>\n",
    "And the random_state is set the 2209."
   ]
  },
  {
   "cell_type": "code",
   "execution_count": 7,
   "metadata": {
    "scrolled": true
   },
   "outputs": [
    {
     "name": "stdout",
     "output_type": "stream",
     "text": [
      "X_train:  (331, 10)\n",
      "X_test:  (111, 10)\n",
      "y_train:  (331, 1)\n",
      "y_test:  (111, 1)\n"
     ]
    }
   ],
   "source": [
    "from sklearn.model_selection import train_test_split\n",
    "XX_train, XX_test, yy_train, yy_test = train_test_split(XX,yy, random_state=2209)\n",
    "print(\"X_train: \",XX_train.shape)\n",
    "print(\"X_test: \",XX_test.shape)\n",
    "print(\"y_train: \",yy_train.shape)\n",
    "print(\"y_test: \",yy_test.shape)"
   ]
  },
  {
   "cell_type": "markdown",
   "metadata": {},
   "source": [
    "# Step 6\n",
    "Repeat Step 3 for the original dataset."
   ]
  },
  {
   "cell_type": "code",
   "execution_count": 8,
   "metadata": {},
   "outputs": [],
   "source": [
    "lasso = Lasso(random_state=2209).fit(XX_train, yy_train)"
   ]
  },
  {
   "cell_type": "code",
   "execution_count": 9,
   "metadata": {},
   "outputs": [
    {
     "name": "stdout",
     "output_type": "stream",
     "text": [
      "Training set score: 0.53\n",
      "Test set score: 0.43\n",
      "Number of features used: 8\n"
     ]
    }
   ],
   "source": [
    "print(\"Training set score: {:.2f}\".format(lasso.score(XX_train, yy_train)))\n",
    "print(\"Test set score: {:.2f}\".format(lasso.score(XX_test, yy_test)))\n",
    "print(\"Number of features used: {}\".format(np.sum(lasso.coef_ != 0)))"
   ]
  },
  {
   "cell_type": "markdown",
   "metadata": {},
   "source": [
    "Although it use the default parameter for alpha, we can still see its number of features used which is 8. <p> \n",
    "Because the original data didn't do the normalisation, the prediction result is not correct. The data should subtract mean and divide by std."
   ]
  },
  {
   "cell_type": "markdown",
   "metadata": {},
   "source": [
    "# Step 7\n",
    "Preprocess the training and test sets in the same way by using StandardScaler()."
   ]
  },
  {
   "cell_type": "code",
   "execution_count": 33,
   "metadata": {},
   "outputs": [],
   "source": [
    "from sklearn.preprocessing import StandardScaler\n",
    "from sklearn.model_selection import train_test_split\n",
    "from sklearn import preprocessing\n",
    "\n",
    "load_diabetes = np.loadtxt(fname=\"C:/Users/USER/diabetes.data\",dtype='str')\n",
    "load_diabetes = load_diabetes[1:,:]\n",
    "load_diabetes = load_diabetes.astype(np.float)\n",
    "\n",
    "# I do the normalisation by StandardScaler() for all the original data including the data and target.\n",
    "# Then I divide the original data into data (Scaler_Xsc) and target (Scaler_ysc).\n",
    "scaler = StandardScaler()\n",
    "Scaler_load_diabetes = scaler.fit_transform(load_diabetes) \n",
    "Scaler_Xsc = Scaler_load_diabetes[:,:-1]\n",
    "Scaler_ysc = Scaler_load_diabetes[:,-1:]                                \n",
    "\n",
    "Xsc_train, Xsc_test, ysc_train, ysc_test = train_test_split(Scaler_Xsc,Scaler_ysc, random_state=2209)"
   ]
  },
  {
   "cell_type": "markdown",
   "metadata": {},
   "source": [
    "# Step 8"
   ]
  },
  {
   "cell_type": "code",
   "execution_count": 32,
   "metadata": {},
   "outputs": [
    {
     "name": "stdout",
     "output_type": "stream",
     "text": [
      "Training set score: 0.00\n",
      "Test set score: -0.00\n",
      "Number of features used: 0\n"
     ]
    }
   ],
   "source": [
    "from sklearn.linear_model import Lasso\n",
    "Sclasso = Lasso(random_state=2209).fit(Xsc_train, ysc_train)\n",
    "print(\"Training set score: {:.2f}\".format(Sclasso.score(Xsc_train, ysc_train)))\n",
    "print(\"Test set score: {:.2f}\".format(Sclasso.score(Xsc_test, ysc_test)))\n",
    "print(\"Number of features used: {}\".format(np.sum(Sclasso.coef_ != 0)))"
   ]
  },
  {
   "cell_type": "markdown",
   "metadata": {},
   "source": [
    "In this part, I want to describe more detail about what I try the results. As I couldn't get the same scale of data, I spent a lot of time to find the reasons for the StandardScale(). After I only used the StandardScale() for X_train and X_test of original data and then the array values are different with the data from sklearn. First, we know that the StandardScale() is (X-mean)/(standard deviation), and I use the respective function to compute then the scale is between 10^-2 and 10^-1; however, if we use the StandardScale() for the X data which show the scale between 10^-1 and 10^0.\n",
    "```\n",
    "Xsc = load_diabetes[:,:-1]\n",
    "Scaler_ysc = Scaler_load_diabetes[:,-1:]\n",
    "Scaler_ysc = load_diabetes[:,-1:]\n",
    "Scaler_Xsc = (Xsc - np.mean(Xsc)) / np.std(Xsc)\n",
    "```\n",
    "Furthermore, the result which only using the StandardScale() on X train and X test is wrong, because the coefficient numbers should shrink close to zero at alpha=1. The value of number of features used is bigger at alpha=1, and if we increase the alpha, the number of features used can't still sharply decrease. In my opinion, I think that the situation is more similar to Ridge regression. <p> \n",
    "Sequentially, I changed the way that doing the StandardScale() for all data including the X data and Y data, after the step was loading the original data.(i.e. Step7)\n",
    "```\n",
    "scaler = StandardScaler()\n",
    "Scaler_load_diabetes = scaler.fit_transform(load_diabetes) \n",
    "Scaler_Xsc = Scaler_load_diabetes[:,:-1]\n",
    "Scaler_ysc = Scaler_load_diabetes[:,-1:]   \n",
    "```\n",
    "We can notice that the new value of number of features used is more normal than value of previous way. In the default parameter of alpha=1, the number of features used can be 0. "
   ]
  },
  {
   "cell_type": "markdown",
   "metadata": {},
   "source": [
    "# Step 9 \n",
    "In this step, I used the different alpha parameters in the Lasso, and plot the test R2 vs the number of features used."
   ]
  },
  {
   "cell_type": "markdown",
   "metadata": {},
   "source": [
    "## alpha=0.01"
   ]
  },
  {
   "cell_type": "code",
   "execution_count": 12,
   "metadata": {},
   "outputs": [
    {
     "name": "stdout",
     "output_type": "stream",
     "text": [
      "Training set score: 0.54\n",
      "Test set score: 0.42\n",
      "Number of features used: 9\n"
     ]
    },
    {
     "data": {
      "text/plain": [
       "array([-0.01036117, -0.19463279,  0.32543035,  0.19858646, -0.08370899,\n",
       "       -0.        , -0.13641493,  0.0062725 ,  0.35905022,  0.0183304 ])"
      ]
     },
     "execution_count": 12,
     "metadata": {},
     "output_type": "execute_result"
    }
   ],
   "source": [
    "lasso001 = Lasso(alpha=0.01,max_iter=100000,random_state=2209).fit(Xsc_train, ysc_train)\n",
    "print(\"Training set score: {:.2f}\".format(lasso001.score(Xsc_train, ysc_train)))\n",
    "print(\"Test set score: {:.2f}\".format(lasso001.score(Xsc_test, ysc_test)))\n",
    "print(\"Number of features used: {}\".format(np.sum(lasso001.coef_ != 0)))\n",
    "lasso001.coef_"
   ]
  },
  {
   "cell_type": "markdown",
   "metadata": {},
   "source": [
    "## alpha=0.001"
   ]
  },
  {
   "cell_type": "code",
   "execution_count": 13,
   "metadata": {},
   "outputs": [
    {
     "name": "stdout",
     "output_type": "stream",
     "text": [
      "Training set score: 0.54\n",
      "Test set score: 0.41\n",
      "Number of features used: 10\n"
     ]
    },
    {
     "data": {
      "text/plain": [
       "array([-0.02299423, -0.21518025,  0.32462825,  0.21510158, -0.43468459,\n",
       "        0.2567307 ,  0.0170406 ,  0.07704454,  0.47972704,  0.02505472])"
      ]
     },
     "execution_count": 13,
     "metadata": {},
     "output_type": "execute_result"
    }
   ],
   "source": [
    "lasso0001 = Lasso(alpha=0.001,max_iter=100000,random_state=2209).fit(Xsc_train, ysc_train)\n",
    "print(\"Training set score: {:.2f}\".format(lasso0001.score(Xsc_train, ysc_train)))\n",
    "print(\"Test set score: {:.2f}\".format(lasso0001.score(Xsc_test, ysc_test)))\n",
    "print(\"Number of features used: {}\".format(np.sum(lasso0001.coef_ != 0)))\n",
    "lasso0001.coef_"
   ]
  },
  {
   "cell_type": "markdown",
   "metadata": {},
   "source": [
    "## alpha=0.1"
   ]
  },
  {
   "cell_type": "code",
   "execution_count": 14,
   "metadata": {},
   "outputs": [
    {
     "name": "stdout",
     "output_type": "stream",
     "text": [
      "Training set score: 0.49\n",
      "Test set score: 0.46\n",
      "Number of features used: 5\n"
     ]
    },
    {
     "data": {
      "text/plain": [
       "array([-0.        , -0.03944713,  0.30976222,  0.10734754, -0.        ,\n",
       "       -0.        , -0.05896764,  0.        ,  0.28447255,  0.        ])"
      ]
     },
     "execution_count": 14,
     "metadata": {},
     "output_type": "execute_result"
    }
   ],
   "source": [
    "lasso01 = Lasso(alpha=0.1,max_iter=100000,random_state=2209).fit(Xsc_train, ysc_train)\n",
    "print(\"Training set score: {:.2f}\".format(lasso01.score(Xsc_train, ysc_train)))\n",
    "print(\"Test set score: {:.2f}\".format(lasso01.score(Xsc_test, ysc_test)))\n",
    "print(\"Number of features used: {}\".format(np.sum(lasso01.coef_ != 0)))\n",
    "lasso01.coef_"
   ]
  },
  {
   "cell_type": "markdown",
   "metadata": {},
   "source": [
    "## alpha=0.55"
   ]
  },
  {
   "cell_type": "code",
   "execution_count": 15,
   "metadata": {},
   "outputs": [
    {
     "name": "stdout",
     "output_type": "stream",
     "text": [
      "Training set score: 0.06\n",
      "Test set score: 0.05\n",
      "Number of features used: 1\n"
     ]
    },
    {
     "data": {
      "text/plain": [
       "array([ 0.        , -0.        ,  0.04921435,  0.        ,  0.        ,\n",
       "        0.        , -0.        ,  0.        ,  0.        ,  0.        ])"
      ]
     },
     "execution_count": 15,
     "metadata": {},
     "output_type": "execute_result"
    }
   ],
   "source": [
    "lasso055 = Lasso(alpha=0.55,max_iter=100000,random_state=2209).fit(Xsc_train, ysc_train)\n",
    "print(\"Training set score: {:.2f}\".format(lasso055.score(Xsc_train, ysc_train)))\n",
    "print(\"Test set score: {:.2f}\".format(lasso055.score(Xsc_test, ysc_test)))\n",
    "print(\"Number of features used: {}\".format(np.sum(lasso055.coef_ != 0)))\n",
    "lasso055.coef_"
   ]
  },
  {
   "cell_type": "markdown",
   "metadata": {},
   "source": [
    "## alpha=0.5"
   ]
  },
  {
   "cell_type": "code",
   "execution_count": 16,
   "metadata": {},
   "outputs": [
    {
     "name": "stdout",
     "output_type": "stream",
     "text": [
      "Training set score: 0.12\n",
      "Test set score: 0.12\n",
      "Number of features used: 2\n"
     ]
    },
    {
     "data": {
      "text/plain": [
       "array([ 0.        , -0.        ,  0.08659468,  0.        ,  0.        ,\n",
       "        0.        , -0.        ,  0.        ,  0.02796178,  0.        ])"
      ]
     },
     "execution_count": 16,
     "metadata": {},
     "output_type": "execute_result"
    }
   ],
   "source": [
    "lasso05 = Lasso(alpha=0.5,max_iter=100000,random_state=2209).fit(Xsc_train, ysc_train)\n",
    "print(\"Training set score: {:.2f}\".format(lasso05.score(Xsc_train, ysc_train)))\n",
    "print(\"Test set score: {:.2f}\".format(lasso05.score(Xsc_test, ysc_test)))\n",
    "print(\"Number of features used: {}\".format(np.sum(lasso05.coef_ != 0)))\n",
    "lasso05.coef_"
   ]
  },
  {
   "cell_type": "markdown",
   "metadata": {},
   "source": [
    "## alpha=0.2"
   ]
  },
  {
   "cell_type": "code",
   "execution_count": 17,
   "metadata": {},
   "outputs": [
    {
     "name": "stdout",
     "output_type": "stream",
     "text": [
      "Training set score: 0.42\n",
      "Test set score: 0.42\n",
      "Number of features used: 3\n"
     ]
    },
    {
     "data": {
      "text/plain": [
       "array([ 0.        , -0.        ,  0.27694174,  0.03935842,  0.        ,\n",
       "        0.        , -0.        ,  0.        ,  0.23947988,  0.        ])"
      ]
     },
     "execution_count": 17,
     "metadata": {},
     "output_type": "execute_result"
    }
   ],
   "source": [
    "lasso02 = Lasso(alpha=0.2,max_iter=100000,random_state=2209).fit(Xsc_train, ysc_train)\n",
    "print(\"Training set score: {:.2f}\".format(lasso02.score(Xsc_train, ysc_train)))\n",
    "print(\"Test set score: {:.2f}\".format(lasso02.score(Xsc_test, ysc_test)))\n",
    "print(\"Number of features used: {}\".format(np.sum(lasso02.coef_ != 0)))\n",
    "lasso02.coef_"
   ]
  },
  {
   "cell_type": "markdown",
   "metadata": {},
   "source": [
    "## alpha=0.05"
   ]
  },
  {
   "cell_type": "code",
   "execution_count": 18,
   "metadata": {},
   "outputs": [
    {
     "name": "stdout",
     "output_type": "stream",
     "text": [
      "Training set score: 0.52\n",
      "Test set score: 0.45\n",
      "Number of features used: 6\n"
     ]
    },
    {
     "data": {
      "text/plain": [
       "array([-0.        , -0.1282557 ,  0.31392643,  0.15786137, -0.        ,\n",
       "       -0.00187181, -0.1214413 ,  0.        ,  0.30438111,  0.        ])"
      ]
     },
     "execution_count": 18,
     "metadata": {},
     "output_type": "execute_result"
    }
   ],
   "source": [
    "lasso005 = Lasso(alpha=0.05,max_iter=100000,random_state=2209).fit(Xsc_train, ysc_train)\n",
    "print(\"Training set score: {:.2f}\".format(lasso005.score(Xsc_train, ysc_train)))\n",
    "print(\"Test set score: {:.2f}\".format(lasso005.score(Xsc_test, ysc_test)))\n",
    "print(\"Number of features used: {}\".format(np.sum(lasso005.coef_ != 0)))\n",
    "lasso005.coef_"
   ]
  },
  {
   "cell_type": "markdown",
   "metadata": {},
   "source": [
    "## alpha=0.03"
   ]
  },
  {
   "cell_type": "code",
   "execution_count": 19,
   "metadata": {},
   "outputs": [
    {
     "name": "stdout",
     "output_type": "stream",
     "text": [
      "Training set score: 0.53\n",
      "Test set score: 0.44\n",
      "Number of features used: 7\n"
     ]
    },
    {
     "data": {
      "text/plain": [
       "array([-0.        , -0.16139804,  0.32017444,  0.1785554 , -0.04057944,\n",
       "       -0.        , -0.13200144,  0.        ,  0.33389872,  0.00108197])"
      ]
     },
     "execution_count": 19,
     "metadata": {},
     "output_type": "execute_result"
    }
   ],
   "source": [
    "lasso003 = Lasso(alpha=0.03,max_iter=100000,random_state=2209).fit(Xsc_train, ysc_train)\n",
    "print(\"Training set score: {:.2f}\".format(lasso003.score(Xsc_train, ysc_train)))\n",
    "print(\"Test set score: {:.2f}\".format(lasso003.score(Xsc_test, ysc_test)))\n",
    "print(\"Number of features used: {}\".format(np.sum(lasso003.coef_ != 0)))\n",
    "lasso003.coef_"
   ]
  },
  {
   "cell_type": "markdown",
   "metadata": {},
   "source": [
    "## alpha=0.015"
   ]
  },
  {
   "cell_type": "code",
   "execution_count": 20,
   "metadata": {},
   "outputs": [
    {
     "name": "stdout",
     "output_type": "stream",
     "text": [
      "Training set score: 0.54\n",
      "Test set score: 0.43\n",
      "Number of features used: 8\n"
     ]
    },
    {
     "data": {
      "text/plain": [
       "array([-0.00361313, -0.18664006,  0.3238213 ,  0.19267387, -0.07061239,\n",
       "       -0.        , -0.13917783,  0.        ,  0.35276204,  0.01356185])"
      ]
     },
     "execution_count": 20,
     "metadata": {},
     "output_type": "execute_result"
    }
   ],
   "source": [
    "lasso0015 = Lasso(alpha=0.015,max_iter=100000,random_state=2209).fit(Xsc_train, ysc_train)\n",
    "print(\"Training set score: {:.2f}\".format(lasso0015.score(Xsc_train, ysc_train)))\n",
    "print(\"Test set score: {:.2f}\".format(lasso0015.score(Xsc_test, ysc_test)))\n",
    "print(\"Number of features used: {}\".format(np.sum(lasso0015.coef_ != 0)))\n",
    "lasso0015.coef_"
   ]
  },
  {
   "cell_type": "markdown",
   "metadata": {},
   "source": [
    "## alpha=2"
   ]
  },
  {
   "cell_type": "code",
   "execution_count": 21,
   "metadata": {},
   "outputs": [
    {
     "name": "stdout",
     "output_type": "stream",
     "text": [
      "Training set score: 0.00\n",
      "Test set score: -0.00\n",
      "Number of features used: 0\n"
     ]
    },
    {
     "data": {
      "text/plain": [
       "array([ 0., -0.,  0.,  0.,  0.,  0., -0.,  0.,  0.,  0.])"
      ]
     },
     "execution_count": 21,
     "metadata": {},
     "output_type": "execute_result"
    }
   ],
   "source": [
    "lasso2 = Lasso(alpha=2,max_iter=100000,random_state=2209).fit(Xsc_train, ysc_train)\n",
    "print(\"Training set score: {:.2f}\".format(lasso2.score(Xsc_train, ysc_train)))\n",
    "print(\"Test set score: {:.2f}\".format(lasso2.score(Xsc_test, ysc_test)))\n",
    "print(\"Number of features used: {}\".format(np.sum(lasso2.coef_ != 0)))\n",
    "lasso2.coef_"
   ]
  },
  {
   "cell_type": "markdown",
   "metadata": {},
   "source": [
    "## alpha=0.15"
   ]
  },
  {
   "cell_type": "code",
   "execution_count": 22,
   "metadata": {},
   "outputs": [
    {
     "name": "stdout",
     "output_type": "stream",
     "text": [
      "Training set score: 0.45\n",
      "Test set score: 0.45\n",
      "Number of features used: 4\n"
     ]
    },
    {
     "data": {
      "text/plain": [
       "array([ 0.        , -0.        ,  0.29824698,  0.0685637 , -0.        ,\n",
       "       -0.        , -0.01555222,  0.        ,  0.26405987,  0.        ])"
      ]
     },
     "execution_count": 22,
     "metadata": {},
     "output_type": "execute_result"
    }
   ],
   "source": [
    "lasso015 = Lasso(alpha=0.15,max_iter=100000,random_state=2209).fit(Xsc_train, ysc_train)\n",
    "print(\"Training set score: {:.2f}\".format(lasso015.score(Xsc_train, ysc_train)))\n",
    "print(\"Test set score: {:.2f}\".format(lasso015.score(Xsc_test, ysc_test)))\n",
    "print(\"Number of features used: {}\".format(np.sum(lasso015.coef_ != 0)))\n",
    "lasso015.coef_"
   ]
  },
  {
   "cell_type": "code",
   "execution_count": 44,
   "metadata": {},
   "outputs": [
    {
     "name": "stdout",
     "output_type": "stream",
     "text": [
      "α=0.001 Number of features used: 10\n",
      "α=0.01 Number of features used: 9\n",
      "α=0.015 Number of features used: 8\n",
      "α=0.03 Number of features used: 7\n",
      "α=0.05 Number of features used: 6\n",
      "α=0.1 Number of features used: 5\n",
      "α=0.15 Number of features used: 4\n",
      "α=0.2 Number of features used: 3\n",
      "α=0.5 Number of features used: 2\n",
      "α=0.55 Number of features used: 1\n",
      "α=1 Number of features used: 0\n",
      "α=2 Number of features used: 0\n"
     ]
    }
   ],
   "source": [
    "print(\"α=0.001 Number of features used: {}\".format(np.sum(lasso0001.coef_ != 0)))\n",
    "print(\"α=0.01 Number of features used: {}\".format(np.sum(lasso001.coef_ != 0)))\n",
    "print(\"α=0.015 Number of features used: {}\".format(np.sum(lasso0015.coef_ != 0)))\n",
    "print(\"α=0.03 Number of features used: {}\".format(np.sum(lasso003.coef_ != 0)))\n",
    "print(\"α=0.05 Number of features used: {}\".format(np.sum(lasso005.coef_ != 0)))\n",
    "print(\"α=0.1 Number of features used: {}\".format(np.sum(lasso01.coef_ != 0)))\n",
    "print(\"α=0.15 Number of features used: {}\".format(np.sum(lasso015.coef_ != 0)))\n",
    "print(\"α=0.2 Number of features used: {}\".format(np.sum(lasso02.coef_ != 0)))\n",
    "print(\"α=0.5 Number of features used: {}\".format(np.sum(lasso05.coef_ != 0)))\n",
    "print(\"α=0.55 Number of features used: {}\".format(np.sum(lasso055.coef_ != 0)))\n",
    "print(\"α=1 Number of features used: {}\".format(np.sum(Sclasso.coef_ != 0)))\n",
    "print(\"α=2 Number of features used: {}\".format(np.sum(lasso2.coef_ != 0)))"
   ]
  },
  {
   "cell_type": "markdown",
   "metadata": {},
   "source": [
    "Alpha | Number  \n",
    ":----:|:-----:\n",
    "1 | 0 \n",
    "0.55 | 1\n",
    "0.5|2\n",
    "0.2|3\n",
    "0.15|4\n",
    "0.1|5\n",
    "0.05|6\n",
    "0.03|7\n",
    "0.015|8\n",
    "0.01|9\n",
    "0.001|10"
   ]
  },
  {
   "cell_type": "code",
   "execution_count": 52,
   "metadata": {},
   "outputs": [
    {
     "data": {
      "text/plain": [
       "Text(0,0.5,'Test R^2 score')"
      ]
     },
     "execution_count": 52,
     "metadata": {},
     "output_type": "execute_result"
    },
    {
     "data": {
      "image/png": "[encoded data removed]",
      "text/plain": [
       "<Figure size 432x288 with 1 Axes>"
      ]
     },
     "metadata": {},
     "output_type": "display_data"
    }
   ],
   "source": [
    "import matplotlib.pyplot as plt\n",
    "%matplotlib inline   \n",
    "plt.plot(np.sum(lasso0001.coef_ != 0),lasso0001.score(Xsc_test, ysc_test), '^', label=\"Lasso alpha=0.001\")\n",
    "plt.plot(np.sum(lasso001.coef_ != 0),lasso001.score(Xsc_test, ysc_test), '<', label=\"Lasso alpha=0.01\")\n",
    "plt.plot(np.sum(lasso0015.coef_ != 0),lasso0015.score(Xsc_test, ysc_test), '^', label=\"Lasso alpha=0.015\")\n",
    "plt.plot(np.sum(lasso003.coef_ != 0),lasso003.score(Xsc_test, ysc_test), '>', label=\"Lasso alpha=0.03\")\n",
    "plt.plot(np.sum(lasso005.coef_ != 0),lasso005.score(Xsc_test, ysc_test), '^', label=\"Lasso alpha=0.05\")\n",
    "plt.plot(np.sum(lasso01.coef_ != 0),lasso01.score(Xsc_test, ysc_test), 'v', label=\"Lasso alpha=0.1\")\n",
    "plt.plot(np.sum(lasso015.coef_ != 0),lasso015.score(Xsc_test, ysc_test), '>', label=\"Lasso alpha=0.15\")\n",
    "plt.plot(np.sum(lasso02.coef_ != 0),lasso02.score(Xsc_test, ysc_test), '^',label=\"Lasso alpha=0.2\")\n",
    "plt.plot(np.sum(lasso05.coef_ != 0),lasso05.score(Xsc_test, ysc_test), 'd', label=\"Lasso alpha=0.5\")\n",
    "plt.plot(np.sum(lasso055.coef_ != 0),lasso055.score(Xsc_test, ysc_test), 'D', label=\"Lasso alpha=0.55\")\n",
    "plt.plot(np.sum(Sclasso.coef_ != 0),Sclasso.score(Xsc_test, ysc_test), 's', label=\"Lasso alpha=1\")\n",
    "plt.plot(np.sum(lasso2.coef_ != 0),lasso2.score(Xsc_test, ysc_test), '*', label=\"Lasso alpha=2\")\n",
    "\n",
    "\n",
    "plt.xticks([0,1,2,3,4,5,6,7,8,9,10])\n",
    "my_y_ticks=np.arange(-0.1, 0.51, 0.05)\n",
    "plt.yticks(my_y_ticks)\n",
    "plt.legend(ncol=2,loc=(0,1.05))\n",
    "plt.xlabel(\"Number of features used\")\n",
    "plt.ylabel(\"Test R^2 score\")\n"
   ]
  },
  {
   "cell_type": "markdown",
   "metadata": {},
   "source": [
    "I prefer the point which is at alpha = 0.1, because we can see the point at alpha=0.1 which has the highest score. Second, the numbers of features used are underfitting between 0 and 2. Although decreasing features can help us to analyze the data, too few features will make us infer errors. On the other hand, the numbers of features used are overfitting between 7 and 10. According to the plot, after alpha=0.1, the curve decrease steadily obviously. In conclusion, the numbers of features used at the alpha=0.1 can get the highest score that it is reasonable."
   ]
  },
  {
   "cell_type": "markdown",
   "metadata": {},
   "source": [
    "# Step 10\n",
    "I use the different alpha parameters for the Lasso by using cross-validation on the training set. After CV got the best value of alpha, we took this value the training set and did the test score. "
   ]
  },
  {
   "cell_type": "code",
   "execution_count": 25,
   "metadata": {},
   "outputs": [
    {
     "name": "stdout",
     "output_type": "stream",
     "text": [
      "Best Alpha: 0.077\n",
      "Best mean(scores): 0.5057245\n",
      "Training set score: 0.50\n",
      "Test set score: 0.46\n",
      "Number of features used: 5\n"
     ]
    }
   ],
   "source": [
    "from sklearn.model_selection import cross_val_score\n",
    "col = 0\n",
    "Avalue = 0\n",
    "step = 0\n",
    "alphaNP=np.arange(0.001, 1, 0.001)\n",
    "for i in alphaNP:\n",
    "    lasso = Lasso(alpha=i,max_iter=10000,random_state=2209,tol=0.0001)\n",
    "    scores = cross_val_score(lasso,X_train,y_train,cv=5)\n",
    "    score = round(np.mean(scores),7)\n",
    "    step += 1\n",
    "    if col < score :\n",
    "        col = score\n",
    "        Avalue = i\n",
    "print(\"Best Alpha:\", Avalue)\n",
    "print(\"Best mean(scores):\", col)\n",
    "lasso = Lasso(alpha=Avalue,max_iter=100000,random_state=2209).fit(Xsc_train, ysc_train)\n",
    "print(\"Training set score: {:.2f}\".format(lasso.score(Xsc_train, ysc_train)))\n",
    "print(\"Test set score: {:.2f}\".format(lasso.score(Xsc_test, ysc_test)))\n",
    "print(\"Number of features used: {}\".format(np.sum(lasso.coef_ != 0)))"
   ]
  },
  {
   "cell_type": "markdown",
   "metadata": {},
   "source": [
    "In the previous step, we can see the result which alpha=0.1 is the highest score and the range is quite high score between 0.15 and 0.05. It can help us judge that the range of the highest score will probably fall there. After using CV, we can get the best alpha 0.077 and it is close to 0.1. The best number of features used is also 5 as same as 0.1."
   ]
  },
  {
   "cell_type": "markdown",
   "metadata": {},
   "source": [
    "# Step 11\n",
    "(a)"
   ]
  },
  {
   "cell_type": "code",
   "execution_count": 57,
   "metadata": {
    "collapsed": true
   },
   "outputs": [],
   "source": [
    "from sklearn.model_selection import train_test_split\n",
    "XX_train, XX_test, yy_train, yy_test = train_test_split(XX,yy, random_state=2209)\n",
    "X_training_proper, X_calibration, y_training_proper, y_calibration = train_test_split(XX_train,yy_train, test_size=99, random_state=2209)"
   ]
  },
  {
   "cell_type": "markdown",
   "metadata": {},
   "source": [
    "(b)"
   ]
  },
  {
   "cell_type": "code",
   "execution_count": 58,
   "metadata": {
    "collapsed": true
   },
   "outputs": [],
   "source": [
    "scaler = StandardScaler()\n",
    "Scaler_X_test = scaler.fit_transform(XX_test) \n",
    "Scaler_X_training_proper = scaler.fit_transform(X_training_proper) \n",
    "Scaler_X_calibration = scaler.fit_transform(X_calibration) "
   ]
  },
  {
   "cell_type": "markdown",
   "metadata": {},
   "source": [
    "(c)"
   ]
  },
  {
   "cell_type": "code",
   "execution_count": 60,
   "metadata": {
    "collapsed": true
   },
   "outputs": [],
   "source": [
    "proper_lasso = Lasso(random_state=2209).fit(Scaler_X_training_proper, y_training_proper)\n",
    "new_prediction = proper_lasso.predict(X_calibration)"
   ]
  },
  {
   "cell_type": "code",
   "execution_count": null,
   "metadata": {},
   "outputs": [],
   "source": []
  },
  {
   "cell_type": "code",
   "execution_count": null,
   "metadata": {
    "collapsed": true
   },
   "outputs": [],
   "source": []
  },
  {
   "cell_type": "code",
   "execution_count": null,
   "metadata": {
    "collapsed": true
   },
   "outputs": [],
   "source": []
  }
 ],
 "metadata": {
  "kernelspec": {
   "display_name": "Python 3",
   "language": "python",
   "name": "python3"
  },
  "language_info": {
   "codemirror_mode": {
    "name": "ipython",
    "version": 3
   },
   "file_extension": ".py",
   "mimetype": "text/x-python",
   "name": "python",
   "nbconvert_exporter": "python",
   "pygments_lexer": "ipython3",
   "version": "3.6.3"
  }
 },
 "nbformat": 4,
 "nbformat_minor": 2
}
